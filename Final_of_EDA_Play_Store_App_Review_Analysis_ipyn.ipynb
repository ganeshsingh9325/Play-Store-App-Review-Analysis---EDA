{
  "nbformat": 4,
  "nbformat_minor": 0,
  "metadata": {
    "colab": {
      "private_outputs": true,
      "provenance": [],
      "include_colab_link": true
    },
    "kernelspec": {
      "name": "python3",
      "display_name": "Python 3"
    },
    "language_info": {
      "name": "python"
    }
  },
  "cells": [
    {
      "cell_type": "markdown",
      "metadata": {
        "id": "view-in-github",
        "colab_type": "text"
      },
      "source": [
        "<a href=\"https://colab.research.google.com/github/ganeshsingh9325/Play-Store-App-Review-Analysis---EDA/blob/main/Final_of_EDA_Play_Store_App_Review_Analysis_ipyn.ipynb\" target=\"_parent\"><img src=\"https://colab.research.google.com/assets/colab-badge.svg\" alt=\"Open In Colab\"/></a>"
      ]
    },
    {
      "cell_type": "markdown",
      "source": [
        "# **Project Name**    -  **Play Store App Review Analysis**    \n",
        "\n"
      ],
      "metadata": {
        "id": "vncDsAP0Gaoa"
      }
    },
    {
      "cell_type": "markdown",
      "source": [
        "##### **Project Type**    - EDA\n",
        "##### **Contribution**    - Individual"
      ],
      "metadata": {
        "id": "beRrZCGUAJYm"
      }
    },
    {
      "cell_type": "markdown",
      "source": [
        "# **Project Summary -**"
      ],
      "metadata": {
        "id": "FJNUwmbgGyua"
      }
    },
    {
      "cell_type": "markdown",
      "source": [
        "The objective of this project is to assist a mobile app developer, in achieving their business goals and enhancing their performance in the competitive mobile app market. By analyzing app data, user ratings, and sentiment analysis, we aim to provide valuable insights and recommendations that can guide the client in optimizing their app development strategies, identifying profitable app categories, and improving user satisfaction.\n",
        "\n",
        "The project begins by examining the relationship between app size and user ratings. Through visualizations such as combination histograms and KDE plots, we analyze the distribution of user ratings across different app sizes. This analysis helps us understand whether there is a correlation between app size and user satisfaction. The insights gained from this exploration can inform the client's decisions regarding app size optimization, ensuring that their apps align with user expectations and preferences.\n",
        "\n",
        "Next, we immerse into the impact of pricing on app success. By examining app categories and their corresponding prices for paid apps, we can identify trends and patterns that can guide pricing strategies. The use of strip plots allows us to visualize the pricing distribution within each category, helping the client identify categories that command higher prices and are potentially more profitable. This information enables the client to make informed pricing decisions and maximize their revenue generation.\n",
        "\n",
        "Additionally, we perform sentiment analysis on user reviews to gain deeper insights into user feedback and sentiments. By merging app data with a review dataset, we analyze the sentiment distribution across different app categories. This analysis helps us identify categories that receive positive sentiment and are associated with high user satisfaction. Furthermore, it highlights categories that may face challenges due to negative sentiment, indicating areas where improvements are needed. These insights allow the client to focus on enhancing user satisfaction, addressing negative feedback, and optimizing their app offerings to meet user expectations.\n",
        "\n",
        "Overall, this project aims to provide the Mobile App Developer with actionable insights and recommendations to achieve their business objectives in the mobile app market. By analyzing app data, user ratings, and sentiments, we assist the client in optimizing their app development practices, identifying profitable app categories, and improving user satisfaction. The outcomes of this project can lead to enhanced app performance, increased user engagement, and ultimately, positive business impact for the client in the competitive mobile app industry."
      ],
      "metadata": {
        "id": "F6v_1wHtG2nS"
      }
    },
    {
      "cell_type": "markdown",
      "source": [
        "# **GitHub Link -**"
      ],
      "metadata": {
        "id": "w6K7xa23Elo4"
      }
    },
    {
      "cell_type": "markdown",
      "source": [
        "Provide your GitHub Link here."
      ],
      "metadata": {
        "id": "h1o69JH3Eqqn"
      }
    },
    {
      "cell_type": "markdown",
      "source": [
        "# **Problem Statement**\n"
      ],
      "metadata": {
        "id": "yQaldy8SH6Dl"
      }
    },
    {
      "cell_type": "markdown",
      "source": [
        " A Mobile App Developer, is facing challenges in achieving their business objectives and wants to improve their performance in the highly competitive app market. They are seeking assistance in identifying the factors that contribute to app success, understanding the relationship between app size and user ratings, and optimizing their pricing strategies to enhance user satisfaction.\n",
        "\n",
        " The client also wants to leverage user sentiment analysis to gain insights into user feedback and sentiment patterns. The specific problem is to find effective strategies to optimize app size, identify profitable app categories, address negative sentiment, and make informed decisions regarding app pricing.\n",
        "\n",
        "The objective is to provide the client with actionable recommendations to overcome these challenges, enhance their app development practices, and drive positive business outcomes in the dynamic app market."
      ],
      "metadata": {
        "id": "DpeJGUA3kjGy"
      }
    },
    {
      "cell_type": "markdown",
      "source": [
        "#### **Define Your Business Objective?**"
      ],
      "metadata": {
        "id": "PH-0ReGfmX4f"
      }
    },
    {
      "cell_type": "markdown",
      "source": [
        "**1. Identifying profitable app categories based on pricing and ratings.**\n",
        "\n",
        "**2. Optimizing app development strategies by considering app size and ratings.**\n",
        "\n",
        "**3. Improving user satisfaction and app quality based on sentiment analysis of user reviews.**\n",
        "\n",
        "**4. Analyzing the impact of app type (free or paid) on user sentiment and ratings.**"
      ],
      "metadata": {
        "id": "PhDvGCAqmjP1"
      }
    },
    {
      "cell_type": "markdown",
      "source": [
        "# ***Let's Begin !***"
      ],
      "metadata": {
        "id": "O_i_v8NEhb9l"
      }
    },
    {
      "cell_type": "markdown",
      "source": [
        "## ***1. Know Your Data***"
      ],
      "metadata": {
        "id": "HhfV-JJviCcP"
      }
    },
    {
      "cell_type": "markdown",
      "source": [
        "### Import Libraries"
      ],
      "metadata": {
        "id": "Y3lxredqlCYt"
      }
    },
    {
      "cell_type": "code",
      "source": [
        "# Import Libraries\n",
        "\n",
        "import pandas as pd\n",
        "import seaborn as sns\n",
        "import matplotlib.pyplot as plt\n",
        "import numpy as np\n",
        "import plotly.express as px\n"
      ],
      "metadata": {
        "id": "M8Vqi-pPk-HR"
      },
      "execution_count": null,
      "outputs": []
    },
    {
      "cell_type": "markdown",
      "source": [
        "### Dataset Loading"
      ],
      "metadata": {
        "id": "3RnN4peoiCZX"
      }
    },
    {
      "cell_type": "code",
      "source": [
        "# Load Dataset\n",
        "\n",
        "# read playstore applications data from csv\n",
        "\n",
        "apps= pd.read_csv('/content/Play Store Data (3).csv')"
      ],
      "metadata": {
        "id": "4CkvbW_SlZ_R"
      },
      "execution_count": null,
      "outputs": []
    },
    {
      "cell_type": "markdown",
      "source": [
        "### Dataset First View"
      ],
      "metadata": {
        "id": "x71ZqKXriCWQ"
      }
    },
    {
      "cell_type": "code",
      "source": [
        "# Dataset First Look\n",
        "\n",
        "apps"
      ],
      "metadata": {
        "id": "LWNFOSvLl09H"
      },
      "execution_count": null,
      "outputs": []
    },
    {
      "cell_type": "code",
      "source": [
        "apps.head()"
      ],
      "metadata": {
        "id": "B45O6TnWEH_6"
      },
      "execution_count": null,
      "outputs": []
    },
    {
      "cell_type": "code",
      "source": [
        "apps.tail()"
      ],
      "metadata": {
        "id": "KAa0QOZZEOtC"
      },
      "execution_count": null,
      "outputs": []
    },
    {
      "cell_type": "markdown",
      "source": [
        "### Dataset Rows & Columns count"
      ],
      "metadata": {
        "id": "7hBIi_osiCS2"
      }
    },
    {
      "cell_type": "code",
      "source": [
        "# Dataset Rows & Columns count\n",
        "\n",
        "apps.shape"
      ],
      "metadata": {
        "id": "Kllu7SJgmLij"
      },
      "execution_count": null,
      "outputs": []
    },
    {
      "cell_type": "markdown",
      "source": [
        "### Dataset Information"
      ],
      "metadata": {
        "id": "JlHwYmJAmNHm"
      }
    },
    {
      "cell_type": "code",
      "source": [
        "# Dataset Info\n",
        "\n",
        "apps.info()"
      ],
      "metadata": {
        "id": "e9hRXRi6meOf"
      },
      "execution_count": null,
      "outputs": []
    },
    {
      "cell_type": "markdown",
      "source": [
        "#### Duplicate Values"
      ],
      "metadata": {
        "id": "35m5QtbWiB9F"
      }
    },
    {
      "cell_type": "code",
      "source": [
        "# Dataset Duplicate Value Count\n",
        "\n",
        "apps.duplicated().sum()"
      ],
      "metadata": {
        "id": "1sLdpKYkmox0"
      },
      "execution_count": null,
      "outputs": []
    },
    {
      "cell_type": "markdown",
      "source": [
        "#### Missing Values/Null Values"
      ],
      "metadata": {
        "id": "PoPl-ycgm1ru"
      }
    },
    {
      "cell_type": "code",
      "source": [
        "# Missing Values/Null Values Count\n",
        "\n",
        "apps.isnull().any()"
      ],
      "metadata": {
        "id": "GgHWkxvamxVg"
      },
      "execution_count": null,
      "outputs": []
    },
    {
      "cell_type": "code",
      "source": [
        "apps.isnull().sum()"
      ],
      "metadata": {
        "id": "aSR3CPy4Xduk"
      },
      "execution_count": null,
      "outputs": []
    },
    {
      "cell_type": "code",
      "source": [
        "# Visualizing the missing values\n",
        "\n",
        "missing_values = apps.isnull().sum()\n",
        "plt.figure(figsize=(12, 30))\n",
        "sns.barplot(x=missing_values.index, y=missing_values.values)\n",
        "plt.xticks(rotation=90)\n",
        "plt.xlabel('Columns')\n",
        "plt.ylabel('Missing Value Count')\n",
        "plt.title('Missing Values in Apps Dataset')\n",
        "plt.show()\n",
        "\n",
        "\n",
        "\n"
      ],
      "metadata": {
        "id": "3q5wnI3om9sJ"
      },
      "execution_count": null,
      "outputs": []
    },
    {
      "cell_type": "markdown",
      "source": [
        "### What did you know about your dataset?"
      ],
      "metadata": {
        "id": "H0kj-8xxnORC"
      }
    },
    {
      "cell_type": "markdown",
      "source": [
        "There are 1474 values missing in Rating column, 1 in Type, 1 in Content Rating, 8 in current version, and 3 in android version.\n",
        "We can drop missing records of Type and Content Rating as its count is much less than the size of dataframe, but we can't drop null values of Rating because it has 1474 record with missing data."
      ],
      "metadata": {
        "id": "gfoNAAC-nUe_"
      }
    },
    {
      "cell_type": "markdown",
      "source": [
        "## ***2. Understanding Your Variables***"
      ],
      "metadata": {
        "id": "nA9Y7ga8ng1Z"
      }
    },
    {
      "cell_type": "code",
      "source": [
        "# Dataset Columns\n",
        "\n",
        "apps.columns"
      ],
      "metadata": {
        "id": "j7xfkqrt5Ag5"
      },
      "execution_count": null,
      "outputs": []
    },
    {
      "cell_type": "code",
      "source": [
        "# Dataset Describe\n",
        "\n",
        "apps.describe(include='all')"
      ],
      "metadata": {
        "id": "DnOaZdaE5Q5t"
      },
      "execution_count": null,
      "outputs": []
    },
    {
      "cell_type": "markdown",
      "source": [
        "### Variables Description"
      ],
      "metadata": {
        "id": "PBTbrJXOngz2"
      }
    },
    {
      "cell_type": "markdown",
      "source": [
        "###1. Play Store Data.csv\n",
        "**App** : Categorical, the app name.\n",
        "\n",
        "**Category** : Categorical, category the app belongs to.\n",
        "\n",
        "**Rating** : Numerical, range from 0.0 to 5.0 Rating has received from the users.\n",
        "\n",
        "**Reviews** : Numerical, the number of reviews that the app received.\n",
        "\n",
        "**Size** : Numerical, the size of the app. The suffix M - megabytes, K - kilobytes.\n",
        "\n",
        "**Installs** : Numerical, describes the number of installs.\n",
        "\n",
        "**Type** : Categorical, a label that indicates whether the app is free or paid.\n",
        "\n",
        "**Price** : Numerical, the price value for the paid apps.\n",
        "\n",
        "**Content** Rating : Categorical, a categorical rating that indicates the age group for user.\n",
        "\n",
        "**Genre** : Categorical, list of genres to which the app belongs.\n",
        "\n",
        "**Last** Updte : Date Format, the date at which the app was last updated.\n",
        "\n",
        "**Current** Version : Version of the app as specified by the developers.\n",
        "\n",
        "**Android** Version : The Android OS the app is compatible with."
      ],
      "metadata": {
        "id": "aJV4KIxSnxay"
      }
    },
    {
      "cell_type": "markdown",
      "source": [
        "### Check Unique Values for each variable."
      ],
      "metadata": {
        "id": "u3PMJOP6ngxN"
      }
    },
    {
      "cell_type": "code",
      "source": [
        "# Check Unique Values for each variable.\n",
        "\n",
        "apps.nunique()"
      ],
      "metadata": {
        "id": "zms12Yq5n-jE"
      },
      "execution_count": null,
      "outputs": []
    },
    {
      "cell_type": "markdown",
      "source": [
        "## 3. ***Data Wrangling***"
      ],
      "metadata": {
        "id": "dauF4eBmngu3"
      }
    },
    {
      "cell_type": "markdown",
      "source": [
        "### Data Wrangling Code"
      ],
      "metadata": {
        "id": "bKJF3rekwFvQ"
      }
    },
    {
      "cell_type": "code",
      "source": [
        "# Write your code to make your dataset analysis ready.\n",
        "\n",
        "# check whether the record with missing type contains some useful information. if yes, donot drop, otherwise drop\n",
        "\n",
        "apps[apps.Type.isna()==True]\n"
      ],
      "metadata": {
        "id": "wk-9a2fpoLcV"
      },
      "execution_count": null,
      "outputs": []
    },
    {
      "cell_type": "code",
      "source": [
        "apps.Type.value_counts()"
      ],
      "metadata": {
        "id": "kZyKxYnQdHbQ"
      },
      "execution_count": null,
      "outputs": []
    },
    {
      "cell_type": "code",
      "source": [
        "# drop records with missing type and content rating\n",
        "\n",
        "apps.dropna(subset=['Type', 'Content Rating'], axis=0, inplace=True)"
      ],
      "metadata": {
        "id": "Mt52U_jNgaLm"
      },
      "execution_count": null,
      "outputs": []
    },
    {
      "cell_type": "code",
      "source": [
        "apps.isnull().sum()"
      ],
      "metadata": {
        "id": "0f9cPz6LglM6"
      },
      "execution_count": null,
      "outputs": []
    },
    {
      "cell_type": "markdown",
      "source": [],
      "metadata": {
        "id": "2UOxbReGhRii"
      }
    },
    {
      "cell_type": "markdown",
      "source": [
        "## 2. Remove Duplicate Records"
      ],
      "metadata": {
        "id": "spO7W3xag83K"
      }
    },
    {
      "cell_type": "markdown",
      "source": [
        "As this data is all about applications of google play store, so different information for same application may lead to ambiguity. Remove all duplicates wo can perform analysis on much clean data"
      ],
      "metadata": {
        "id": "9C_lKADThAQx"
      }
    },
    {
      "cell_type": "code",
      "source": [
        "apps.duplicated().any()"
      ],
      "metadata": {
        "id": "TNDr7zXhhWCQ"
      },
      "execution_count": null,
      "outputs": []
    },
    {
      "cell_type": "code",
      "source": [
        "# drop duplicates and update the dataframe\n",
        "\n",
        "apps.drop_duplicates(inplace=True)"
      ],
      "metadata": {
        "id": "RW1iD9PahgI-"
      },
      "execution_count": null,
      "outputs": []
    },
    {
      "cell_type": "code",
      "source": [
        "# cross check is there are still some duplicates\n",
        "\n",
        "apps.duplicated().any()"
      ],
      "metadata": {
        "id": "lPk4h--ziDCp"
      },
      "execution_count": null,
      "outputs": []
    },
    {
      "cell_type": "code",
      "source": [
        "# check the number of missing values in Rating after removing duplicates\n",
        "\n",
        "apps.isna().sum()"
      ],
      "metadata": {
        "id": "ms1ExyEJiJ2o"
      },
      "execution_count": null,
      "outputs": []
    },
    {
      "cell_type": "markdown",
      "source": [
        "## 3. Correcting Data Types of each Attribute"
      ],
      "metadata": {
        "id": "AIyvKlw6ic3a"
      }
    },
    {
      "cell_type": "markdown",
      "source": [
        "Improper data type of attributes could make analysis more difficult and incorrect, for example if a datetime column is interpreted as string by python then you wouldn't be able to extract useful information from date like month, year or day easily, similarly if integer or float column is interpreted as string then you wouldn't be able to calculate its avergae or total. So, in order to simplify our analysis we should first correct our data types"
      ],
      "metadata": {
        "id": "eGGd5ujZilS4"
      }
    },
    {
      "cell_type": "code",
      "source": [
        "# finding the data types of each attribute\n",
        "\n",
        "apps.info()"
      ],
      "metadata": {
        "id": "6M7X0rnqioMq"
      },
      "execution_count": null,
      "outputs": []
    },
    {
      "cell_type": "code",
      "source": [
        "apps[apps.Type == 'Paid'].head()"
      ],
      "metadata": {
        "id": "Pjf7jqEajd1u"
      },
      "execution_count": null,
      "outputs": []
    },
    {
      "cell_type": "markdown",
      "source": [
        "Here, we can easily see some special characters in Price and Installs columns. We can't convert string to integer if it doesn't contain all digits and no special characters or alphabets. So, firstly we have to remove these special characters."
      ],
      "metadata": {
        "id": "wEkgbeZLkVBF"
      }
    },
    {
      "cell_type": "code",
      "source": [
        "# list of characters to remove\n",
        "chars_to_remove = ['+', ',', '$']\n",
        "\n",
        "# columns from where to remove special characters\n",
        "cols_to_clean = ['Reviews', 'Installs', 'Price']\n",
        "\n",
        "for col in cols_to_clean:\n",
        "    for char in chars_to_remove:\n",
        "\n",
        "        apps[col] = apps[col].apply(lambda x: x.replace(char, ''))\n",
        "\n",
        "\n",
        "apps[apps.Type == \"Paid\"]\n",
        "\n",
        "\n",
        "\n",
        "\n"
      ],
      "metadata": {
        "id": "PkLSTzdWkt9E"
      },
      "execution_count": null,
      "outputs": []
    },
    {
      "cell_type": "markdown",
      "source": [
        "Content Rating column contains some complicated or we can say ambiguous/uncleaned values so replace them with simple ones."
      ],
      "metadata": {
        "id": "4d6cF_Jym99U"
      }
    },
    {
      "cell_type": "code",
      "source": [
        "apps['Content Rating'].unique()"
      ],
      "metadata": {
        "id": "_f16keA_pnrW"
      },
      "execution_count": null,
      "outputs": []
    },
    {
      "cell_type": "code",
      "source": [
        "# replace 'everyone 10+' to only '10+', 'Mature 17+' to 'Mature', and 'Adults only 18+' to 'Adults' only\n",
        "\n",
        "apps['Content Rating'].replace(['Everyone 10+', 'Mature 17+', 'Adults only 18+'], ['10+', 'Mature', 'Adults'], inplace=True)"
      ],
      "metadata": {
        "id": "46Cn8ZZ9ne2L"
      },
      "execution_count": null,
      "outputs": []
    },
    {
      "cell_type": "code",
      "source": [
        "apps['Content Rating'].unique()"
      ],
      "metadata": {
        "id": "ZTF4fMfBpFPr"
      },
      "execution_count": null,
      "outputs": []
    },
    {
      "cell_type": "markdown",
      "source": [
        "Now we have corrected the values of Price, Installs, Reviews (if it contains any special character), and Content Rating. Next step is to change their data types\n",
        "Content Rating, Type and Category has discrete values thus are categorical so, change their data type to categorical\n",
        "Price contain floating point number, and Installs and Reviews contain integer values"
      ],
      "metadata": {
        "id": "qeMGP5tDp5pT"
      }
    },
    {
      "cell_type": "code",
      "source": [
        "apps['Content Rating'] = apps['Content Rating'].astype('category')\n",
        "\n",
        "apps.Price = apps.Price.astype('float64')\n",
        "apps.Installs = apps.Installs.astype('int')\n",
        "apps.Reviews = apps.Reviews.astype('int')\n",
        "apps.Type = apps.Type.astype('category')\n",
        "apps.Category = apps.Category.astype('category')"
      ],
      "metadata": {
        "id": "Z_7_O1qdq0D2"
      },
      "execution_count": null,
      "outputs": []
    },
    {
      "cell_type": "code",
      "source": [
        "# convert genres to category and last updated to datetime object as it contains dates\n",
        "\n",
        "apps.Genres = apps.Genres.astype('category')\n",
        "apps['Last Updated'] = pd.to_datetime(apps['Last Updated'])\n",
        "\n"
      ],
      "metadata": {
        "id": "HVv9GoOLsLY3"
      },
      "execution_count": null,
      "outputs": []
    },
    {
      "cell_type": "code",
      "source": [
        "# check the data type of each attribute\n",
        "\n",
        "apps.info()"
      ],
      "metadata": {
        "id": "SimTpUhrs2q5"
      },
      "execution_count": null,
      "outputs": []
    },
    {
      "cell_type": "markdown",
      "source": [
        "## 4. Select Interested/Informative Attributes Only"
      ],
      "metadata": {
        "id": "V3Om5qy-tCG0"
      }
    },
    {
      "cell_type": "markdown",
      "source": [
        "To perform on all attributes without having their need usually considered as illogical thing, So sliced your dataframe before doing EDA everytime. Here, I am not interested in doing analysis on current or android versions of application so I m ignoring these attributes and storing all others as apps2"
      ],
      "metadata": {
        "id": "GEgoqvcqtHSZ"
      }
    },
    {
      "cell_type": "code",
      "source": [
        "# Pick out all rows and columns from 'App' to 'Last Updated' i.e from 0 to 10\n",
        "\n",
        "apps2 = apps.iloc[:, :11]\n",
        "apps2"
      ],
      "metadata": {
        "id": "I5bGnTyktPue"
      },
      "execution_count": null,
      "outputs": []
    },
    {
      "cell_type": "markdown",
      "source": [
        "### What all manipulations have you done and insights you found?"
      ],
      "metadata": {
        "id": "MSa1f5Uengrz"
      }
    },
    {
      "cell_type": "markdown",
      "source": [
        "The dataset contains information about mobile applications from the Google Play Store.\n",
        "There are missing values in the 'Rating' column, which cannot be dropped due to a significant number of missing records.\n",
        "The dataset had duplicate records, which were removed to ensure data cleanliness.\n",
        "Certain attributes had special characters or complicated values, which were cleaned and corrected.\n",
        "Data types of attributes were adjusted to facilitate analysis.\n",
        "The 'apps2' dataframe contains the selected attributes for further analysis."
      ],
      "metadata": {
        "id": "LbyXE7I1olp8"
      }
    },
    {
      "cell_type": "markdown",
      "source": [
        "## ***4. Data Vizualization, Storytelling & Experimenting with charts : Understand the relationships between variables***"
      ],
      "metadata": {
        "id": "GF8Ens_Soomf"
      }
    },
    {
      "cell_type": "markdown",
      "source": [
        "#### Chart - 1 - Histogram - Most Rated Apps (Top 10)"
      ],
      "metadata": {
        "id": "0wOQAZs5pc--"
      }
    },
    {
      "cell_type": "code",
      "source": [
        "# Chart - 1 visualization code\n",
        "\n",
        "top_rated = apps2.nlargest(10, 'Rating')\n"
      ],
      "metadata": {
        "id": "7v_ESjsspbW7"
      },
      "execution_count": null,
      "outputs": []
    },
    {
      "cell_type": "markdown",
      "source": [
        "### Categories of Highly Rated Apps"
      ],
      "metadata": {
        "id": "O6wyfPnTDtiG"
      }
    },
    {
      "cell_type": "code",
      "source": [
        "sns.set_style('darkgrid')\n",
        "plt.hist(top_rated['Genres'])\n",
        "plt.xlabel('Category of 10 highly rated Apps')\n",
        "plt.ylabel('Count')\n",
        "plt.margins(0.10)\n",
        "plt.show()"
      ],
      "metadata": {
        "id": "QRUncO73EQpv"
      },
      "execution_count": null,
      "outputs": []
    },
    {
      "cell_type": "markdown",
      "source": [
        "##### 1. Why did you pick the specific chart?"
      ],
      "metadata": {
        "id": "K5QZ13OEpz2H"
      }
    },
    {
      "cell_type": "markdown",
      "source": [
        "the histogram was chosen to represent the categories of highly rated apps because it effectively shows the count or frequency of each category. By using a histogram, it becomes easy to compare the frequency of different categories. In this case, the histogram clearly shows that the 'DATING' category has the highest count (6), followed by 'EVENTS' (3), and 'COMICS' (1). This visual representation allows for a quick and clear understanding of the distribution of highly rated apps across different categories."
      ],
      "metadata": {
        "id": "XESiWehPqBRc"
      }
    },
    {
      "cell_type": "markdown",
      "source": [
        "##### 2. What is/are the insight(s) found from the chart?"
      ],
      "metadata": {
        "id": "lQ7QKXXCp7Bj"
      }
    },
    {
      "cell_type": "markdown",
      "source": [
        "Answer Here\n",
        "\n",
        "Out of 10 highly rated applications, 6 were of type 'DATING' , 3 were of type 'EVENTS', and only 1 belongs to the category of 'COMICS'\n",
        "\n"
      ],
      "metadata": {
        "id": "C_j1G7yiqdRP"
      }
    },
    {
      "cell_type": "markdown",
      "source": [
        "##### 3. Will the gained insights help creating a positive business impact?\n",
        "Are there any insights that lead to negative growth? Justify with specific reason."
      ],
      "metadata": {
        "id": "448CDAPjqfQr"
      }
    },
    {
      "cell_type": "markdown",
      "source": [
        "The gained insights can potentially help create a positive business impact. By identifying the popular categories of highly rated apps and understanding user preferences and market demand, businesses can focus their resources on developing or improving apps in those categories, increasing their chances of success and growth. However, it's important to note that the absence of certain categories among the highly rated apps does not necessarily imply negative growth. Negative growth can occur due to various factors such as competition, user experience and satisfaction, and market trends. To ensure positive growth, businesses should continuously monitor user feedback, adapt to market dynamics, and provide a compelling user experience that meets or exceeds customer expectations."
      ],
      "metadata": {
        "id": "3cspy4FjqxJW"
      }
    },
    {
      "cell_type": "markdown",
      "source": [
        "#### Chart - 2 - Countplot -   Exploring Categories of applications"
      ],
      "metadata": {
        "id": "KSlN3yHqYklG"
      }
    },
    {
      "cell_type": "code",
      "source": [
        "# Chart - 2 visualization code\n",
        "\n",
        "#Number of categories\n",
        "print(\"Total Categories: {}\".format(len(apps2.Category.unique())))\n",
        "\n",
        "plt.figure(figsize=[15, 6])\n",
        "sns.set_context('talk')\n",
        "sns.countplot(x='Category', data = apps2, order=apps2.Category.value_counts().index)\n",
        "plt.xticks(rotation=90)\n",
        "\n",
        "plt.show()"
      ],
      "metadata": {
        "id": "R4YgtaqtYklH"
      },
      "execution_count": null,
      "outputs": []
    },
    {
      "cell_type": "markdown",
      "source": [
        "##### 1. Why did you pick the specific chart?"
      ],
      "metadata": {
        "id": "t6dVpIINYklI"
      }
    },
    {
      "cell_type": "markdown",
      "source": [
        "The countplot was chosen as an appropriate chart to represent the number of categories and their counts. It efficiently communicates the distribution of apps across different categories, highlighting the prevalence of certain categories like FAMILY, GAMES, TOOLS, BUSINESS, and MEDICAL, while also allowing for a quick understanding of the relative frequencies of other categories."
      ],
      "metadata": {
        "id": "5aaW0BYyYklI"
      }
    },
    {
      "cell_type": "markdown",
      "source": [
        "##### 2. What is/are the insight(s) found from the chart?"
      ],
      "metadata": {
        "id": "ijmpgYnKYklI"
      }
    },
    {
      "cell_type": "markdown",
      "source": [
        "Most of the applications belongs to the category of FAMILY, then GAMES, and then TOOLS, BUSINESS and MEDICAL. The rest have less count or less innovations."
      ],
      "metadata": {
        "id": "PSx9atu2YklI"
      }
    },
    {
      "cell_type": "markdown",
      "source": [
        "##### 3. Will the gained insights help creating a positive business impact?\n",
        "Are there any insights that lead to negative growth? Justify with specific reason."
      ],
      "metadata": {
        "id": "-JiQyfWJYklI"
      }
    },
    {
      "cell_type": "markdown",
      "source": [
        "the gained insights can help create a positive business impact. By understanding the distribution of apps across different categories and identifying the most prevalent categories, businesses can make informed decisions regarding product development, marketing strategies, and resource allocation. They can focus their efforts on categories like FAMILY, GAMES, TOOLS, BUSINESS, and MEDICAL, which have a higher count and potentially a larger user base. However, it's important to note that negative growth can occur if businesses solely rely on these insights without considering other crucial factors. Factors such as market saturation, intense competition within popular categories, or evolving user preferences can impact growth. To ensure positive business impact, businesses should also focus on factors like user satisfaction, market trends, and innovation to differentiate themselves and maintain a competitive edge."
      ],
      "metadata": {
        "id": "BcBbebzrYklV"
      }
    },
    {
      "cell_type": "markdown",
      "source": [
        "#### Chart - 3 - Pie chart-   Impact of Price on app installations"
      ],
      "metadata": {
        "id": "EM7whBJCYoAo"
      }
    },
    {
      "cell_type": "code",
      "source": [
        "# Chart - 3 visualization code\n",
        "\n",
        "installs = apps2.groupby('Type')['Installs'].agg('sum')\n",
        "installs"
      ],
      "metadata": {
        "id": "xvflCrcNCSu6"
      },
      "execution_count": null,
      "outputs": []
    },
    {
      "cell_type": "code",
      "source": [
        "labels = installs.index\n",
        "sizes = installs.values\n",
        "\n",
        "# Create the pie chart\n",
        "plt.pie(sizes, labels=labels, colors = ['green','yellow'] ,  autopct='%1.0f%%')\n",
        "plt.title('App Installs by Type')\n",
        "plt.show()"
      ],
      "metadata": {
        "id": "4TpLqzd1CU3i"
      },
      "execution_count": null,
      "outputs": []
    },
    {
      "cell_type": "markdown",
      "source": [
        "##### 1. Why did you pick the specific chart?"
      ],
      "metadata": {
        "id": "fge-S5ZAYoAp"
      }
    },
    {
      "cell_type": "markdown",
      "source": [
        "\n",
        "I selected a pie chart because it is a suitable choice when you want to visually represent the distribution or proportion of different categories or groups as part of a whole. In this case, the data provided included two categories (\"Free\" and \"Paid\") and the goal was to show the proportion of app installs for each category. A pie chart allows for easy comparison of the relative sizes of the categories and provides a clear visual understanding of the distribution."
      ],
      "metadata": {
        "id": "5dBItgRVYoAp"
      }
    },
    {
      "cell_type": "markdown",
      "source": [
        "##### 2. What is/are the insight(s) found from the chart?"
      ],
      "metadata": {
        "id": "85gYPyotYoAp"
      }
    },
    {
      "cell_type": "markdown",
      "source": [
        "People usually tend to install and use free application and Paid application people not install or very small proportion of installs in the \"Paid\" category.Now we can analyze the impact of price on apps rating."
      ],
      "metadata": {
        "id": "4jstXR6OYoAp"
      }
    },
    {
      "cell_type": "markdown",
      "source": [
        "##### 3. Will the gained insights help creating a positive business impact?\n",
        "Are there any insights that lead to negative growth? Justify with specific reason."
      ],
      "metadata": {
        "id": "RoGjAbkUYoAp"
      }
    },
    {
      "cell_type": "markdown",
      "source": [
        "The gained insights from the pie chart can indeed help create a positive business impact by providing valuable information about the distribution of app installs. By understanding the proportion of installs for different categories, such as \"Free\" and \"Paid,\" businesses can make informed decisions about resource allocation, pricing strategies, and revenue generation opportunities. For example, if the majority of installs are in the \"Paid\" category, it indicates a potential for direct revenue generation. However, if the insights reveal a very small proportion of installs in the \"Paid\" category or a significant dominance of free installs, it could indicate a potential negative impact on growth. This might suggest a need to reassess monetization strategies, pricing models, or the overall value proposition of the paid offerings to address market dynamics and drive positive growth."
      ],
      "metadata": {
        "id": "zfJ8IqMcYoAp"
      }
    },
    {
      "cell_type": "markdown",
      "source": [
        "#### Chart - 4- Histogram with Kernel Density Estimate (KDE) and Hue Differentiation - Distribution of App Ratings"
      ],
      "metadata": {
        "id": "4Of9eVA-YrdM"
      }
    },
    {
      "cell_type": "code",
      "source": [
        "# Chart - 4 visualization code\n",
        "\n",
        "avg_rating = apps2.Rating.mean()\n",
        "print(\"Average Rating: {}\".format(avg_rating))\n",
        "\n",
        "sns.displot(data=apps2, x='Rating', kde=True, hue='Type', height=8, aspect=1.2)\n",
        "plt.axvline(avg_rating, linestyle='--', color = 'red', linewidth = 2.0)\n",
        "plt.text(3.3, 800, 'Average Rating -->', color = 'red', fontsize=14)\n",
        "plt.title('PDF or Distribution of Rating with Type', fontsize=18)\n",
        "plt.show()"
      ],
      "metadata": {
        "id": "irlUoxc8YrdO"
      },
      "execution_count": null,
      "outputs": []
    },
    {
      "cell_type": "markdown",
      "source": [
        "##### 1. Why did you pick the specific chart?"
      ],
      "metadata": {
        "id": "iky9q4vBYrdO"
      }
    },
    {
      "cell_type": "markdown",
      "source": [
        "I chose the histogram with KDE and hue differentiation because it effectively displays the distribution of ratings for paid and unpaid applications in a visually appealing manner, allowing for easy comparison. The histogram provides a clear representation of the frequency of ratings, while the KDE curve smooths the distribution for better visibility. The hue differentiation helps identify any differences in the rating distributions between paid and unpaid apps, and the vertical line representing the average rating provides a useful reference point for comparison."
      ],
      "metadata": {
        "id": "aJRCwT6DYrdO"
      }
    },
    {
      "cell_type": "markdown",
      "source": [
        "##### 2. What is/are the insight(s) found from the chart?"
      ],
      "metadata": {
        "id": "F6T5p64dYrdO"
      }
    },
    {
      "cell_type": "markdown",
      "source": [
        "Mean average rating is approx 4.2. We can say that rating is negatively skewed or exponentially increasing. But for Paid apps ratio of rating is quite less than Free apps. To confirm the distribution of rating we can plot ecdf"
      ],
      "metadata": {
        "id": "Xx8WAJvtYrdO"
      }
    },
    {
      "cell_type": "markdown",
      "source": [
        "##### 3. Will the gained insights help creating a positive business impact?\n",
        "Are there any insights that lead to negative growth? Justify with specific reason."
      ],
      "metadata": {
        "id": "y-Ehk30pYrdP"
      }
    },
    {
      "cell_type": "markdown",
      "source": [
        "The gained insights from the chart can potentially help create a positive business impact. By examining the distribution of ratings for paid and unpaid applications, businesses can identify trends and patterns that may influence their decision-making processes. For example, if the chart reveals that unpaid applications tend to have higher ratings compared to paid applications, businesses can consider adjusting their pricing strategy or improving the quality of their paid applications to enhance customer satisfaction and potentially increase revenue. However, if the chart indicates that paid applications consistently receive lower ratings compared to free applications, it may suggest a negative growth potential. In such cases, businesses would need to analyze the reasons behind the lower ratings and take corrective actions to improve the user experience and enhance the value proposition of their paid applications in order to mitigate any negative impact."
      ],
      "metadata": {
        "id": "jLNxxz7MYrdP"
      }
    },
    {
      "cell_type": "markdown",
      "source": [
        "#### Chart - 5- Empirical Cumulative Distribution Function (ECDF) plot"
      ],
      "metadata": {
        "id": "bamQiAODYuh1"
      }
    },
    {
      "cell_type": "code",
      "source": [
        "# Chart - 5 visualization code\n",
        "\n",
        "# to confirm that the distribution of rating is negatively skewed,\n",
        "# we are using empirical commulative distribution function\n",
        "\n",
        "plt.figure(figsize=[15, 6])\n",
        "sns.ecdfplot(data = apps2, x='Rating', hue='Type', legend=True)\n",
        "plt.title(\"ECDF of Rating\", fontsize=16)\n",
        "plt.show()"
      ],
      "metadata": {
        "id": "TIJwrbroYuh3"
      },
      "execution_count": null,
      "outputs": []
    },
    {
      "cell_type": "markdown",
      "source": [
        "##### 1. Why did you pick the specific chart?"
      ],
      "metadata": {
        "id": "QHF8YVU7Yuh3"
      }
    },
    {
      "cell_type": "markdown",
      "source": [
        "\n",
        "The ECDF plot was chosen because it provides a clear and intuitive representation of the cumulative distribution of ratings for both free and paid apps. By plotting the empirical cumulative probabilities against the rating values, we can easily visualize how the ratings are distributed across the range. The ECDF plot allows us to assess the skewness of the distribution and observe any differences between the distributions of free and paid apps."
      ],
      "metadata": {
        "id": "dcxuIMRPYuh3"
      }
    },
    {
      "cell_type": "markdown",
      "source": [
        "##### 2. What is/are the insight(s) found from the chart?"
      ],
      "metadata": {
        "id": "GwzvFGzlYuh3"
      }
    },
    {
      "cell_type": "markdown",
      "source": [
        "Free and Paid Apps rating is negatively skewed ass tail extends from left hand side."
      ],
      "metadata": {
        "id": "uyqkiB8YYuh3"
      }
    },
    {
      "cell_type": "markdown",
      "source": [
        "##### 3. Will the gained insights help creating a positive business impact?\n",
        "Are there any insights that lead to negative growth? Justify with specific reason."
      ],
      "metadata": {
        "id": "qYpmQ266Yuh3"
      }
    },
    {
      "cell_type": "markdown",
      "source": [
        "\n",
        "The gained insights from the ECDF plot can potentially help create a positive business impact. By analyzing the cumulative distribution of ratings for free and paid apps, businesses can gain a better understanding of customer satisfaction and identify opportunities for improvement. For example, if the ECDF plot shows that a significant portion of ratings for paid apps is concentrated at lower values compared to free apps, it may indicate a potential negative impact on revenue and growth. In such cases, businesses can investigate the reasons behind the lower ratings, address any issues affecting user experience, and implement strategies to enhance the value proposition of their paid apps. This proactive approach can help mitigate negative growth and lead to positive outcomes by improving customer satisfaction and increasing the likelihood of positive reviews and recommendations."
      ],
      "metadata": {
        "id": "_WtzZ_hCYuh4"
      }
    },
    {
      "cell_type": "markdown",
      "source": [
        "#### Chart - 6 - Combination Histogram and KDE plot - Apps rating with respect to size of application"
      ],
      "metadata": {
        "id": "OH-pJp9IphqM"
      }
    },
    {
      "cell_type": "code",
      "source": [
        "# Chart - 6 visualization code\n",
        "\n",
        "apps_with_size = apps2\n",
        "\n",
        "apps_with_size['size_unit'] = ['KB' if x.endswith('k')\\\n",
        "                                else 'MB' if x.endswith('M') else 'Varies with device'\\\n",
        "                                for x in apps2.Size]\n",
        "apps_with_size.head()"
      ],
      "metadata": {
        "id": "kuRf4wtuphqN"
      },
      "execution_count": null,
      "outputs": []
    },
    {
      "cell_type": "code",
      "source": [
        "sns.displot(data=apps_with_size, x='Rating', kde=True, hue='Type', height=4, aspect=1.5, col='size_unit')\n",
        "plt.show()"
      ],
      "metadata": {
        "id": "Za99ExUOLu32"
      },
      "execution_count": null,
      "outputs": []
    },
    {
      "cell_type": "markdown",
      "source": [
        "##### 1. Why did you pick the specific chart?"
      ],
      "metadata": {
        "id": "bbFf2-_FphqN"
      }
    },
    {
      "cell_type": "markdown",
      "source": [
        "\n",
        "I chose the combination of a histogram and KDE plot because it effectively visualizes the distribution of app ratings across different size units and distinguishes between free and paid apps. By utilizing the hue parameter and columns for size units, the chart provides a clear and comprehensive view of the rating distribution in relation to app size and pricing, allowing for easy comparison and analysis."
      ],
      "metadata": {
        "id": "loh7H2nzphqN"
      }
    },
    {
      "cell_type": "markdown",
      "source": [
        "##### 2. What is/are the insight(s) found from the chart?"
      ],
      "metadata": {
        "id": "_ouA3fa0phqN"
      }
    },
    {
      "cell_type": "markdown",
      "source": [
        "Large free applications tends to have more rating as compared to small applications (in kilobytes)\n",
        "Application with varying size have more rating if they are unpaid."
      ],
      "metadata": {
        "id": "VECbqPI7phqN"
      }
    },
    {
      "cell_type": "markdown",
      "source": [
        "##### 3. Will the gained insights help creating a positive business impact?\n",
        "Are there any insights that lead to negative growth? Justify with specific reason."
      ],
      "metadata": {
        "id": "Seke61FWphqN"
      }
    },
    {
      "cell_type": "markdown",
      "source": [
        "\n",
        "The gained insights from the combination histogram and KDE plot with hue and columns can potentially help create a positive business impact. By analyzing the rating distribution in relation to app size and pricing, businesses can identify patterns and make informed decisions. For example, they can identify the most common rating ranges for different size units and pricing categories, allowing them to optimize their app development and pricing strategies to align with user preferences. However, one potential insight that could lead to negative growth is if the plot reveals a significant concentration of low ratings for a specific size unit or pricing category. This could indicate user dissatisfaction with apps of that particular size or pricing, prompting businesses to reevaluate their offerings and address any issues causing negative feedback in order to avoid negative growth or loss of customers."
      ],
      "metadata": {
        "id": "DW4_bGpfphqN"
      }
    },
    {
      "cell_type": "markdown",
      "source": [
        "#### Chart - 7 - Strip Plot - Category Vs Price"
      ],
      "metadata": {
        "id": "PIIx-8_IphqN"
      }
    },
    {
      "cell_type": "code",
      "source": [
        "# Chart - 7 visualization code\n",
        "\n",
        "#apps_with_price = apps2[apps2.Type == 'Paid']\n",
        "\n",
        "apps_with_price = apps2.loc[(apps2.Type == 'Paid')]\n",
        "apps_with_price.head()"
      ],
      "metadata": {
        "id": "lqAIGUfyphqO"
      },
      "execution_count": null,
      "outputs": []
    },
    {
      "cell_type": "code",
      "source": [
        "plt.figure(figsize = [15, 10])\n",
        "sns.set_context('paper')\n",
        "sns.stripplot(y='Category', x='Price', data=apps_with_price,\\\n",
        "              jitter=True, size=6, palette='plasma', marker='D')\n",
        "plt.axvline(apps_with_price.Price.mean(), linewidth=1.5, linestyle='-')\n",
        "plt.text(20, 2, '<-- Average Price', fontsize=15, color='red')\n",
        "plt.show()"
      ],
      "metadata": {
        "id": "5-qIPBDNTjyF"
      },
      "execution_count": null,
      "outputs": []
    },
    {
      "cell_type": "markdown",
      "source": [
        "##### 1. Why did you pick the specific chart?"
      ],
      "metadata": {
        "id": "t27r6nlMphqO"
      }
    },
    {
      "cell_type": "markdown",
      "source": [
        "\n",
        "I chose the strip plot with a horizontal orientation to visualize the relationship between app categories and their prices for paid apps. This chart allows for a clear comparison of prices across different categories and helps identify any potential trends or variations. By using markers to represent each data point and adding jitter to avoid overlapping, we can effectively observe the distribution of prices within each category. The addition of a vertical line indicating the average price and a text annotation further aids in understanding the overall pricing pattern."
      ],
      "metadata": {
        "id": "iv6ro40sphqO"
      }
    },
    {
      "cell_type": "markdown",
      "source": [
        "##### 2. What is/are the insight(s) found from the chart?"
      ],
      "metadata": {
        "id": "r2jJGEOYphqO"
      }
    },
    {
      "cell_type": "markdown",
      "source": [
        "It's hard to interpret which type of applications have generally have high prices for their installation. So, let's find out those categories with high prices."
      ],
      "metadata": {
        "id": "EdATMhICTtGU"
      }
    },
    {
      "cell_type": "markdown",
      "source": [
        "##### 3. Will the gained insights help creating a positive business impact?\n",
        "Are there any insights that lead to negative growth? Justify with specific reason."
      ],
      "metadata": {
        "id": "b0JNsNcRphqO"
      }
    },
    {
      "cell_type": "markdown",
      "source": [
        "The gained insights from the strip plot can potentially help create a positive business impact. By analyzing the relationship between app categories and their prices for paid apps, businesses can gain insights into pricing strategies and market trends. They can identify categories that command higher prices and have a more profitable potential. However, one potential insight that could lead to negative growth is if the plot reveals a lack of demand or low prices in certain categories.In the case of our scenerio hard to interpret which type of applications have generally have high prices for their installation."
      ],
      "metadata": {
        "id": "xvSq8iUTphqO"
      }
    },
    {
      "cell_type": "markdown",
      "source": [
        "## Applications with High Prices"
      ],
      "metadata": {
        "id": "GRBcV7nAjJCh"
      }
    },
    {
      "cell_type": "markdown",
      "source": [
        "#### Chart - 8 - Scatter plot -  Applications with High Prices"
      ],
      "metadata": {
        "id": "BZR9WyysphqO"
      }
    },
    {
      "cell_type": "code",
      "source": [
        "# Chart - 8 visualization code\n",
        "\n",
        "#high_prices = apps_with_price[apps_with_price.Price >= 250]\n",
        "\n",
        "high_prices = apps_with_price.loc[(apps_with_price.Price >= 250)]\n",
        "high_prices"
      ],
      "metadata": {
        "id": "TdPTWpAVphqO"
      },
      "execution_count": null,
      "outputs": []
    },
    {
      "cell_type": "markdown",
      "source": [
        "Seems like these apps are not useful as it all have some common keywords like I AM RICH, may be some developers had made these apps just for their joy or some other purpose. So, now it's necessory to filter out important apps like FINANCE, BUSINESS, HEALTH, SOCIAL, LIFESTYLE, TOOLS, GAMES, COMMUNICATION, and EDUCATION."
      ],
      "metadata": {
        "id": "sTp4dtdLjrUm"
      }
    },
    {
      "cell_type": "code",
      "source": [
        "plt.figure(figsize = [15, 10])\n",
        "sns.set_context('paper')\n",
        "\n",
        "\n",
        "imp_cats = ['FINANCE', 'BUSINESS', 'HEALTH', 'SOCIAL', 'LIFESTYLE', 'TOOLS', 'GAME', 'COMMUNICATION', 'EDUCATION']\n",
        "\n",
        "popular_apps = apps_with_price.loc[(apps_with_price.Category.isin(imp_cats))]\n",
        "\n",
        "# Let's explore these application under price $100\n",
        "popular_apps_under_100 = popular_apps.loc[(popular_apps.Price <= 100)]\n",
        "\n",
        "print(\"Average Price: ${}\".format(round(apps_with_price.Price.mean(), 2)))\n",
        "\n",
        "sns.set()\n",
        "plt.plot(popular_apps_under_100.Price, popular_apps_under_100.Category, marker='D', linestyle='none',\\\n",
        "        markersize = 8, color='goldenrod')\n",
        "plt.axvline(apps_with_price.Price.mean(), linewidth=1.5, linestyle='-')\n",
        "plt.text(16, 2, '<-- Average Price', fontsize=15, color='red')\n",
        "plt.xlabel(\"Price (in dollars)\", fontsize=14)\n",
        "plt.ylabel(\"Popular Categories\", fontsize=14)\n",
        "plt.title(\"Prices of Popular categories under $100\", fontsize=16)\n",
        "plt.show()"
      ],
      "metadata": {
        "id": "HO-03hgvj0Dk"
      },
      "execution_count": null,
      "outputs": []
    },
    {
      "cell_type": "markdown",
      "source": [
        "We can say that FINANCE, LIFESTYLE, TOOLS, GAMES, and BUSINESS applications tends to be more expensive then others as these applications have prices greater then average price. However there is only one BUSINESS application with price close to 100 dollar, Now we will find that application and explore its reviews and rating to make sure that the development of this application is purposeful."
      ],
      "metadata": {
        "id": "XTWK3N1xj618"
      }
    },
    {
      "cell_type": "code",
      "source": [
        "business_outlier = popular_apps_under_100[popular_apps_under_100.Price >= 85]\n",
        "business_outlier"
      ],
      "metadata": {
        "id": "Ya_6S7jakVlJ"
      },
      "execution_count": null,
      "outputs": []
    },
    {
      "cell_type": "markdown",
      "source": [
        "This application has no rating and has only 6 reviews, its size is 10 MB and it has only 10 installs. Now we are about to end this analysis after exploring which type of applications get greater number of reviews and then we will perform sentiment analysis on reviews csv of playstore applications to find apps with positive reviews and rating."
      ],
      "metadata": {
        "id": "z1zrT2nQkYe8"
      }
    },
    {
      "cell_type": "markdown",
      "source": [
        "## **Sentiment Anaysis Based on Reviews**"
      ],
      "metadata": {
        "id": "tEzGBK9Ju9BN"
      }
    },
    {
      "cell_type": "markdown",
      "source": [
        "### We can draw conclusion from reviews of users"
      ],
      "metadata": {
        "id": "UxVGd7H6vQIr"
      }
    },
    {
      "cell_type": "code",
      "source": [
        "reviews_df = pd.read_csv('/content/User Reviews (3).csv')\n",
        "reviews_df.head()"
      ],
      "metadata": {
        "id": "7lqKrYTOvYLy"
      },
      "execution_count": null,
      "outputs": []
    },
    {
      "cell_type": "markdown",
      "source": [
        "## Variables Description"
      ],
      "metadata": {
        "id": "LNLtl_ri_d5e"
      }
    },
    {
      "cell_type": "markdown",
      "source": [
        "### **2. User Reviews.csv**"
      ],
      "metadata": {
        "id": "fBTHFoAg_iy4"
      }
    },
    {
      "cell_type": "markdown",
      "source": [
        "App : the app name\n",
        "\n",
        "Translated_Reviews : The reviews text in English.\n",
        "\n",
        "Sentiment : the sentiment of the review, positive, neutral, or negative.\n",
        "\n",
        "Sentiment_polarity : the sentiment in numerical form, ranging from -1.00 to 1.00\n",
        "\n",
        "Sentiment_Subjectivity : a measure of the expression of opinions, evaluations, feelings, and speculations."
      ],
      "metadata": {
        "id": "I29svJRy_u0A"
      }
    },
    {
      "cell_type": "code",
      "source": [
        "# check for null values\n",
        "\n",
        "reviews_df.isna().sum()"
      ],
      "metadata": {
        "id": "BzcPiy6Dv4-I"
      },
      "execution_count": null,
      "outputs": []
    },
    {
      "cell_type": "code",
      "source": [
        "# check duplicates\n",
        "\n",
        "reviews_df.duplicated()"
      ],
      "metadata": {
        "id": "92gjvB-hv8Cm"
      },
      "execution_count": null,
      "outputs": []
    },
    {
      "cell_type": "code",
      "source": [
        "reviews_df.loc[(reviews_df.duplicated()==True)]"
      ],
      "metadata": {
        "id": "oqTsRtPuv-9O"
      },
      "execution_count": null,
      "outputs": []
    },
    {
      "cell_type": "code",
      "source": [
        "# drop duplicates\n",
        "\n",
        "reviews_df.drop_duplicates(inplace=True)"
      ],
      "metadata": {
        "id": "4otgSrNqwDAU"
      },
      "execution_count": null,
      "outputs": []
    },
    {
      "cell_type": "code",
      "source": [
        "reviews_df.shape"
      ],
      "metadata": {
        "id": "gSC4CahMwFm3"
      },
      "execution_count": null,
      "outputs": []
    },
    {
      "cell_type": "code",
      "source": [
        "# after removing duplice records we are left with relatively small amount of null values\n",
        "\n",
        "reviews_df.isna().sum()"
      ],
      "metadata": {
        "id": "BYZ122FywU_l"
      },
      "execution_count": null,
      "outputs": []
    },
    {
      "cell_type": "markdown",
      "source": [
        "Merge previous application dataframe with this review dataframe to explore reviews of free, paid, and popular category of apps."
      ],
      "metadata": {
        "id": "1_S_8Qwnwers"
      }
    },
    {
      "cell_type": "code",
      "source": [
        "app_df = reviews_df.merge(apps2, on=['App'], suffixes=('_rev', '_org'))\n",
        "app_df.head()"
      ],
      "metadata": {
        "id": "jKlwmt2Gwlkt"
      },
      "execution_count": null,
      "outputs": []
    },
    {
      "cell_type": "code",
      "source": [
        "app_df.shape"
      ],
      "metadata": {
        "id": "cQeXSeKjwoes"
      },
      "execution_count": null,
      "outputs": []
    },
    {
      "cell_type": "code",
      "source": [
        "# group applications based on their category and then sentiment to find out the proportion of\n",
        "# positive, negative, and neutral reviews of popular categories\n",
        "\n",
        "category_sent = app_df.groupby('Category', group_keys=False)['Sentiment'].value_counts(normalize=True).rename('proportion').reset_index()\n",
        "category_sent"
      ],
      "metadata": {
        "id": "ISiyQst3wt37"
      },
      "execution_count": null,
      "outputs": []
    },
    {
      "cell_type": "code",
      "source": [
        "# from all above categories pick out records with popular categories only\n",
        "\n",
        "sent_of_pop_cat = category_sent[category_sent.Category.isin(imp_cats)]\n",
        "sent_of_pop_cat"
      ],
      "metadata": {
        "id": "t8MhMASfwyC1"
      },
      "execution_count": null,
      "outputs": []
    },
    {
      "cell_type": "markdown",
      "source": [
        "#### Chart - 9 -  Grouped Bar chart Using PLOTLY to plot proportion of sentiment of each category"
      ],
      "metadata": {
        "id": "YJ55k-q6phqO"
      }
    },
    {
      "cell_type": "code",
      "source": [
        "# Chart - 9 visualization code\n",
        "\n",
        "fig = px.bar(sent_of_pop_cat, x=\"proportion\", y=\"Category\", color=\"Sentiment\", barmode=\"group\",\n",
        "             color_discrete_sequence=px.colors.qualitative.Safe, hover_name=\"Sentiment\",\n",
        "             category_orders={ \"Sentiment\": [\"Positive\", \"Negative\", \"Neutral\"]})\n",
        "\n",
        "fig.update_layout(barmode='stack', title=\"Sentiment Proportion Along Category\")\n",
        "fig.update_xaxes(showgrid=True, ticks=\"outside\", tickson=\"boundaries\")\n",
        "\n",
        "fig.show()"
      ],
      "metadata": {
        "id": "B2aS4O1ophqO"
      },
      "execution_count": null,
      "outputs": []
    },
    {
      "cell_type": "markdown",
      "source": [
        "##### 1. Why did you pick the specific chart?"
      ],
      "metadata": {
        "id": "gCFgpxoyphqP"
      }
    },
    {
      "cell_type": "markdown",
      "source": [
        "\n",
        "The specific chart, a grouped bar chart, was chosen because it effectively presents and compares the sentiment proportion across different categories of applications. The use of grouped bars allows for a clear visualization of the sentiment distribution within each category, while the color coding distinguishes between positive, negative, and neutral sentiments. This chart type is particularly useful when there is a need to compare multiple categories and their corresponding sentiment proportions in a concise and easily interpretable manner."
      ],
      "metadata": {
        "id": "TVxDimi2phqP"
      }
    },
    {
      "cell_type": "markdown",
      "source": [
        "##### 2. What is/are the insight(s) found from the chart?"
      ],
      "metadata": {
        "id": "OVtJsKN_phqQ"
      }
    },
    {
      "cell_type": "markdown",
      "source": [
        "Education, comminucation, and Lifestyle applications usually get positive response, Games get most negative comments as compared to other applications."
      ],
      "metadata": {
        "id": "ngGi97qjphqQ"
      }
    },
    {
      "cell_type": "markdown",
      "source": [
        "##### 3. Will the gained insights help creating a positive business impact?\n",
        "Are there any insights that lead to negative growth? Justify with specific reason."
      ],
      "metadata": {
        "id": "lssrdh5qphqQ"
      }
    },
    {
      "cell_type": "markdown",
      "source": [
        "\n",
        "The gained insights from analyzing the sentiment proportion across different application categories can potentially have a positive business impact. By identifying that education, communication, and lifestyle applications usually receive positive responses, businesses operating in these categories can focus on leveraging this positive sentiment to attract more users, improve customer satisfaction, and potentially increase user engagement and revenue.\n",
        "\n",
        "On the other hand, the insight that games receive the most negative comments compared to other applications could potentially lead to negative growth for businesses in the gaming industry. Negative sentiment towards games may indicate issues with gameplay, user experience, or other factors that result in dissatisfaction among users."
      ],
      "metadata": {
        "id": "tBpY5ekJphqQ"
      }
    },
    {
      "cell_type": "markdown",
      "source": [
        "### Also find out the effect of sentiments on type of application."
      ],
      "metadata": {
        "id": "MR87fGKn2gmM"
      }
    },
    {
      "cell_type": "markdown",
      "source": [
        "#### Chart - 10 - Stacked Bar Plot - Effect of sentiments on type of application."
      ],
      "metadata": {
        "id": "U2RJ9gkRphqQ"
      }
    },
    {
      "cell_type": "code",
      "source": [
        "# Chart - 10 visualization code\n",
        "\n",
        "# group applications on the basis of their type (paid, free) and then sentiments\n",
        "\n",
        "type_sent = app_df.groupby('Type')['Sentiment'].value_counts(normalize=True).rename('percent').reset_index()\n",
        "type_sent"
      ],
      "metadata": {
        "id": "GM7a4YP4phqQ"
      },
      "execution_count": null,
      "outputs": []
    },
    {
      "cell_type": "code",
      "source": [
        "# use plotly to plot bar plots\n",
        "\n",
        "fig = px.bar(type_sent, x=\"Type\", y=\"percent\", color=\"Sentiment\",\n",
        "             color_discrete_sequence=px.colors.qualitative.Antique, hover_name=\"Sentiment\",\n",
        "             category_orders={ \"Sentiment\": [\"Positive\", \"Negative\", \"Neutral\"]})\n",
        "\n",
        "fig.update_layout(barmode='stack', title=\"Sentiment Proportion Along Type\")\n",
        "fig.update_xaxes(showgrid=True, ticks=\"outside\", tickson=\"boundaries\")\n",
        "\n",
        "fig.show()"
      ],
      "metadata": {
        "id": "N6jGvuMV2y0n"
      },
      "execution_count": null,
      "outputs": []
    },
    {
      "cell_type": "markdown",
      "source": [
        "##### 1. Why did you pick the specific chart?"
      ],
      "metadata": {
        "id": "1M8mcRywphqQ"
      }
    },
    {
      "cell_type": "markdown",
      "source": [
        "I picked the specific chart, a stacked bar plot, because it effectively visualizes the proportion of positive, negative, and neutral sentiments for both paid and free applications. By using different colors for each sentiment category, it allows for easy differentiation and comparison between the two types of apps."
      ],
      "metadata": {
        "id": "8agQvks0phqQ"
      }
    },
    {
      "cell_type": "markdown",
      "source": [
        "##### 2. What is/are the insight(s) found from the chart?"
      ],
      "metadata": {
        "id": "tgIPom80phqQ"
      }
    },
    {
      "cell_type": "markdown",
      "source": [
        "By plotting Sentiment proportion of Paid VS Free apps, we observe that free apps receive a lot of harsh comments, as indicated by the graph. Reviews for paid apps appear never to be extremely negative. This may indicate something about app quality, i.e., paid apps being of higher quality than free apps on average. In this notebook, we analyzed over ten thousand apps from the Google Play Store. We can use our findings to inform our decisions should we ever wish to create an app ourselves."
      ],
      "metadata": {
        "id": "Qp13pnNzphqQ"
      }
    },
    {
      "cell_type": "markdown",
      "source": [
        "##### 3. Will the gained insights help creating a positive business impact?\n",
        "Are there any insights that lead to negative growth? Justify with specific reason."
      ],
      "metadata": {
        "id": "JMzcOPDDphqR"
      }
    },
    {
      "cell_type": "markdown",
      "source": [
        "The gained insights can potentially help create a positive business impact. The analysis shows that paid apps have a higher proportion of positive sentiments compared to free apps, indicating that users generally have a more positive experience with paid apps. This suggests that investing in creating high-quality paid apps can lead to positive user feedback and potentially drive revenue growth. On the other hand, the analysis also reveals that free apps receive a significant percentage of negative sentiments. This implies that free apps may have lower overall user satisfaction, which could negatively impact user retention and hinder monetization opportunities through ads or in-app purchases. It is important for businesses to consider these insights and find ways to address the negative sentiment patterns in free apps, such as improving user experience, addressing user feedback, or considering alternative monetization strategies to ensure sustainable growth."
      ],
      "metadata": {
        "id": "R4Ka1PC2phqR"
      }
    },
    {
      "cell_type": "markdown",
      "source": [
        "#### Chart - 14 - Correlation Heatmap"
      ],
      "metadata": {
        "id": "NC_X3p0fY2L0"
      }
    },
    {
      "cell_type": "code",
      "source": [
        "# Correlation Heatmap visualization code"
      ],
      "metadata": {
        "id": "xyC9zolEZNRQ"
      },
      "execution_count": null,
      "outputs": []
    },
    {
      "cell_type": "markdown",
      "source": [
        "##### 1. Why did you pick the specific chart?"
      ],
      "metadata": {
        "id": "UV0SzAkaZNRQ"
      }
    },
    {
      "cell_type": "markdown",
      "source": [
        "Answer Here."
      ],
      "metadata": {
        "id": "DVPuT8LYZNRQ"
      }
    },
    {
      "cell_type": "markdown",
      "source": [
        "##### 2. What is/are the insight(s) found from the chart?"
      ],
      "metadata": {
        "id": "YPEH6qLeZNRQ"
      }
    },
    {
      "cell_type": "markdown",
      "source": [
        "Answer Here"
      ],
      "metadata": {
        "id": "bfSqtnDqZNRR"
      }
    },
    {
      "cell_type": "markdown",
      "source": [
        "#### Chart - 15 - Pair Plot"
      ],
      "metadata": {
        "id": "q29F0dvdveiT"
      }
    },
    {
      "cell_type": "code",
      "source": [
        "# Pair Plot visualization code"
      ],
      "metadata": {
        "id": "o58-TEIhveiU"
      },
      "execution_count": null,
      "outputs": []
    },
    {
      "cell_type": "markdown",
      "source": [
        "##### 1. Why did you pick the specific chart?"
      ],
      "metadata": {
        "id": "EXh0U9oCveiU"
      }
    },
    {
      "cell_type": "markdown",
      "source": [
        "Answer Here."
      ],
      "metadata": {
        "id": "eMmPjTByveiU"
      }
    },
    {
      "cell_type": "markdown",
      "source": [
        "##### 2. What is/are the insight(s) found from the chart?"
      ],
      "metadata": {
        "id": "22aHeOlLveiV"
      }
    },
    {
      "cell_type": "markdown",
      "source": [
        "Answer Here"
      ],
      "metadata": {
        "id": "uPQ8RGwHveiV"
      }
    },
    {
      "cell_type": "markdown",
      "source": [
        "## **5. Solution to Business Objective**"
      ],
      "metadata": {
        "id": "JcMwzZxoAimU"
      }
    },
    {
      "cell_type": "markdown",
      "source": [
        "#### What do you suggest the client to achieve Business Objective ?\n",
        "Explain Briefly."
      ],
      "metadata": {
        "id": "8G2x9gOozGDZ"
      }
    },
    {
      "cell_type": "markdown",
      "source": [
        "Based on the analysis, it is suggested to focus on app categories that have high ratings and pricing. The combination histogram and KDE plot provide insights into the distribution of ratings based on app size and pricing categories. By identifying categories with high ratings and high prices, the client can prioritize app development in those categories to potentially maximize revenue and profitability.\n",
        "\n",
        "It is important to consider the relationship between app size and ratings. The scatter plot analysis reveals that larger-sized apps tend to have higher ratings. Therefore, the client should focus on optimizing the app development process to ensure that larger-sized apps are of high quality and provide a positive user experience. This may involve efficient coding practices, minimizing app size without compromising functionality, and addressing any performance issues.\n",
        "\n",
        "To enhance app quality and user satisfaction, it is crucial to analyze user sentiment and reviews. The sentiment analysis on user reviews can help identify positive and negative sentiments associated with different app categories. This information can be used to address any issues or concerns raised by users, improve app features, usability, and overall user experience.\n",
        "\n",
        "Also we can analyze the impact of app type (free or paid) on user sentiment and ratings. The stacked bar plot analysis reveals that paid apps generally receive more positive sentiments compared to free apps. This suggests that the we should consider offering paid apps as they may have a higher likelihood of positive user feedback and better user satisfaction. However, it is essential to consider market dynamics, competition, and user preferences while making pricing decisions."
      ],
      "metadata": {
        "id": "pASKb0qOza21"
      }
    },
    {
      "cell_type": "markdown",
      "source": [
        "# **Conclusion**"
      ],
      "metadata": {
        "id": "gCX9965dhzqZ"
      }
    },
    {
      "cell_type": "markdown",
      "source": [
        "In conclusion, the analysis of the Play Store App Review has provided valuable insights for the client to achieve their business objectives. The findings suggest that optimizing app development practices for larger-sized apps can lead to higher ratings and improved user satisfaction. By prioritizing efficient coding practices and addressing performance issues, the client can enhance app quality and user experience. Additionally, the analysis highlighted specific app categories that command higher prices and receive higher ratings, indicating the client's focus should be on developing apps in these profitable categories to maximize revenue.\n",
        "\n",
        "Furthermore, sentiment analysis of user reviews revealed the importance of addressing user feedback and incorporating user suggestions to improve app features, usability, and overall user experience. By actively responding to user sentiment and working towards enhancing app quality, the client can increase user satisfaction, improve ratings, and drive positive business impact. Moreover, considering the impact of app type (free or paid), the analysis suggests that offering paid apps can potentially lead to higher user satisfaction and positive user feedback."
      ],
      "metadata": {
        "id": "Fjb1IsQkh3yE"
      }
    },
    {
      "cell_type": "markdown",
      "source": [
        "### ***Hurrah! You have successfully completed your EDA Capstone Project !!!***"
      ],
      "metadata": {
        "id": "gIfDvo9L0UH2"
      }
    }
  ]
}